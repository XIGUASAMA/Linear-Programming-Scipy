{
 "cells": [
  {
   "cell_type": "code",
   "execution_count": 1,
   "metadata": {},
   "outputs": [],
   "source": [
    "import numpy as np\n",
    "import re\n",
    "import copy\n",
    "import sys\n",
    "from scipy import optimize"
   ]
  },
  {
   "cell_type": "code",
   "execution_count": 2,
   "metadata": {},
   "outputs": [],
   "source": [
    "f=open(\"input.txt\", \"r\", encoding=\"utf-8\")\n",
    "str_f=f.read()\n",
    "f.close()"
   ]
  },
  {
   "cell_type": "code",
   "execution_count": 3,
   "metadata": {},
   "outputs": [
    {
     "data": {
      "text/plain": [
       "['max=2*x1+3*x2+5*x3',\n",
       " '2*x1+2*x2+3*x3<=12',\n",
       " 'x1+2*x2+2*x3<=8',\n",
       " '4*x1+6*x3<=16',\n",
       " '4*x2+3*x3<=12',\n",
       " 'x1>=0',\n",
       " 'x2>=0',\n",
       " 'x3>=0']"
      ]
     },
     "execution_count": 3,
     "metadata": {},
     "output_type": "execute_result"
    }
   ],
   "source": [
    "list_origin=[]\n",
    "list_origin=str_f.split(\"\\n\")\n",
    "list_origin"
   ]
  },
  {
   "cell_type": "code",
   "execution_count": 4,
   "metadata": {},
   "outputs": [
    {
     "data": {
      "text/plain": [
       "3"
      ]
     },
     "execution_count": 4,
     "metadata": {},
     "output_type": "execute_result"
    }
   ],
   "source": [
    "def confirm():\n",
    "    xmax=1\n",
    "    for i in list_origin:\n",
    "        while(1):\n",
    "            if \"x\"+str(xmax) in i:\n",
    "                xmax+=1\n",
    "            else: break\n",
    "    return xmax-1\n",
    "xmax=xused=confirm()\n",
    "xused"
   ]
  },
  {
   "cell_type": "code",
   "execution_count": 5,
   "metadata": {},
   "outputs": [
    {
     "name": "stdout",
     "output_type": "stream",
     "text": [
      "[]\n",
      "[]\n",
      "[1, 2, 3]\n"
     ]
    }
   ],
   "source": [
    "free=[]\n",
    "positive=[]\n",
    "negtive=[]\n",
    "for i in range(1,xused+1):\n",
    "    if \"x\"+str(i)+\">=0\" in list_origin:\n",
    "        positive.append(i)\n",
    "    elif \"x\"+str(i)+\"<=0\" in list_origin:\n",
    "        negtive.append(i)\n",
    "    else:\n",
    "        free.append(i)\n",
    "print(free)\n",
    "print(negtive)\n",
    "print(positive)"
   ]
  },
  {
   "cell_type": "code",
   "execution_count": 6,
   "metadata": {},
   "outputs": [
    {
     "data": {
      "text/plain": [
       "['max=2*x1+3*x2+5*x3',\n",
       " '2*x1+2*x2+3*x3<=12',\n",
       " 'x1+2*x2+2*x3<=8',\n",
       " '4*x1+6*x3<=16',\n",
       " '4*x2+3*x3<=12']"
      ]
     },
     "execution_count": 6,
     "metadata": {},
     "output_type": "execute_result"
    }
   ],
   "source": [
    "for a in range(1,xused+1):\n",
    "    for i in list_origin:\n",
    "        if i == \"x\"+str(a)+\">=0\":\n",
    "            list_origin.remove(i)\n",
    "list_origin"
   ]
  },
  {
   "cell_type": "code",
   "execution_count": 7,
   "metadata": {},
   "outputs": [
    {
     "name": "stdout",
     "output_type": "stream",
     "text": [
      "['max=2*x1+3*x2+5*x3', '2*x1+2*x2+3*x3+x4=12', 'x1+2*x2+2*x3+x5=8', '4*x1+6*x3+x6=16', '4*x2+3*x3+x7=12']\n",
      "['max=2*x1+3*x2+5*x3', '2*x1+2*x2+3*x3+1*x4=12', '1*x1+2*x2+2*x3+1*x5=8', '4*x1+6*x3+1*x6=16', '4*x2+3*x3+1*x7=12']\n"
     ]
    },
    {
     "data": {
      "text/plain": [
       "[[], [], [], [], [], []]"
      ]
     },
     "execution_count": 7,
     "metadata": {},
     "output_type": "execute_result"
    }
   ],
   "source": [
    "global addxi\n",
    "addxi=xused\n",
    "def Normalization(i):\n",
    "    global addxi\n",
    "    if \"<=\" in i:\n",
    "        addxi+=1\n",
    "        return i.replace(\"<=\",\"+x\"+str(addxi)+\"=\")\n",
    "    elif \">=\" in i:\n",
    "        addxi+=1\n",
    "        return i.replace(\">=\",\"-x\"+str(addxi)+\"=\")\n",
    "    return i\n",
    "list_normal=list(map(Normalization,list_origin))\n",
    "print(list_normal)\n",
    "k=0\n",
    "for i in list_normal:\n",
    "    for j in range(1,addxi+1):\n",
    "        i=list_normal[k]\n",
    "        if (\"*x\"+str(j)) not in i:\n",
    "            list_normal[k]=i.replace(\"x\"+str(j),\"1*x\"+str(j))\n",
    "    k+=1\n",
    "print(list_normal)\n",
    "fn=[[]]\n",
    "p=0\n",
    "for i in list_normal:\n",
    "    num=0\n",
    "    flag1=0\n",
    "    flag2=0\n",
    "    for j in i:\n",
    "        if j in [\"0\",\"1\",\"2\",\"3\",\"4\",\"5\",\"6\",\"7\",\"8\",\"9\"]:\n",
    "            num=num+1\n",
    "        if j is \"-\":\n",
    "            if flag1==0:\n",
    "                fn.append([])\n",
    "                flag2=1\n",
    "                flag=1\n",
    "            fn[p].append(num)\n",
    "    if flag2==0:\n",
    "        fn.append([])\n",
    "    p=p+1\n",
    "fn"
   ]
  },
  {
   "cell_type": "code",
   "execution_count": 8,
   "metadata": {},
   "outputs": [
    {
     "name": "stdout",
     "output_type": "stream",
     "text": [
      "TEMP: [[2, 1, 3, 2, 5, 3], [2, 1, 2, 2, 3, 3, 1, 4, 12], [1, 1, 2, 2, 2, 3, 1, 5, 8], [4, 1, 6, 3, 1, 6, 16], [4, 2, 3, 3, 1, 7, 12]]\n",
      "A: [[2, 2, 3, 1, 0, 0, 0], [1, 2, 2, 0, 1, 0, 0], [4, 0, 6, 0, 0, 1, 0], [0, 4, 3, 0, 0, 0, 1]]\n",
      "B: [[0], [12], [8], [16], [12]]\n",
      "CNEW: [2, 3, 5, 0, 0, 0, 0]\n"
     ]
    }
   ],
   "source": [
    "TEMP=[]\n",
    "\n",
    "A=[]\n",
    "for i in range(len(list_normal)-1):\n",
    "    A.append([])\n",
    "    for j in range(addxi):\n",
    "        A[i].append(0)\n",
    "\n",
    "B=[]\n",
    "for i in range(len(list_normal)):\n",
    "    B.append([0])\n",
    "\n",
    "C=[0 for i in range(0,len(list_normal))]\n",
    "\n",
    "for i in list_normal:\n",
    "    temp=re.findall(r\"\\d+\\.?\\d*\",i)\n",
    "    TEMP.append(temp)\n",
    "TEMP=list(map(lambda x:list(map(int, x)), TEMP))\n",
    "\n",
    "for i in range(0,len(TEMP)):\n",
    "    if fn != [[]]:\n",
    "        for j in range(0,len(fn[i])):\n",
    "            TEMP[i][fn[i][j]]=TEMP[i][fn[i][j]]*-1\n",
    "print(\"TEMP:\",TEMP)\n",
    "    \n",
    "for i in range(1,len(TEMP)):\n",
    "    for j in range(0,len(TEMP[i])-1,2):\n",
    "        A[i-1][TEMP[i][j+1]-1]=TEMP[i][j]\n",
    "print(\"A:\",A)\n",
    "\n",
    "for i in range(1,len(list_normal)):\n",
    "    B[i][0]=TEMP[i][-1]\n",
    "print(\"B:\",B)\n",
    "\n",
    "C=TEMP[0][::2]\n",
    "C += [0 for i in range(len(C),addxi)]\n",
    "if \"min\" in list_origin[0]:\n",
    "    CNEW=[-l for l in C]\n",
    "else:\n",
    "    CNEW=copy.deepcopy(C)\n",
    "print(\"CNEW:\",CNEW)\n",
    "flag=1"
   ]
  },
  {
   "cell_type": "code",
   "execution_count": 9,
   "metadata": {},
   "outputs": [
    {
     "name": "stdout",
     "output_type": "stream",
     "text": [
      "     con: array([0., 0., 0., 0.])\n",
      "     fun: 16.5\n",
      " message: 'Optimization terminated successfully.'\n",
      "     nit: 4\n",
      "   slack: array([], dtype=float64)\n",
      "  status: 0\n",
      " success: True\n",
      "       x: array([1. , 1.5, 2. , 1. , 0. , 0. , 0. ])\n"
     ]
    }
   ],
   "source": [
    "if flag:\n",
    "    del B[0]\n",
    "    flag=0\n",
    "\n",
    "z = np.array(CNEW)\n",
    "a = np.array(A)\n",
    "b = np.array(B).T\n",
    "\n",
    "bounds_list=[]\n",
    "for i in range(len(CNEW)):\n",
    "    if i in free:\n",
    "        bounds_list.append((None, None))\n",
    "    elif i in free:\n",
    "        bounds_list.append((None, 0))\n",
    "    else:\n",
    "        bounds_list.append((0, None))\n",
    "\n",
    "bounds_tuple=tuple(bounds_list)\n",
    "\n",
    "res = optimize.linprog(-z, A_eq=a, b_eq=b,bounds=(bounds_tuple))\n",
    "if \"max\" in list_origin[0]:\n",
    "    res.fun = - res.fun\n",
    "print(res)\n",
    "n=len(CNEW)-xused\n",
    "res.x=res.x[:-n]"
   ]
  },
  {
   "cell_type": "code",
   "execution_count": 10,
   "metadata": {},
   "outputs": [],
   "source": [
    "f=open(\"output.txt\", \"w\", encoding=\"utf-8\")\n",
    "f.truncate()\n",
    "f.write(str(res))\n",
    "f.close()"
   ]
  },
  {
   "cell_type": "code",
   "execution_count": null,
   "metadata": {},
   "outputs": [],
   "source": []
  }
 ],
 "metadata": {
  "kernelspec": {
   "display_name": "Python 3",
   "language": "python",
   "name": "python3"
  },
  "language_info": {
   "codemirror_mode": {
    "name": "ipython",
    "version": 3
   },
   "file_extension": ".py",
   "mimetype": "text/x-python",
   "name": "python",
   "nbconvert_exporter": "python",
   "pygments_lexer": "ipython3",
   "version": "3.7.3"
  }
 },
 "nbformat": 4,
 "nbformat_minor": 2
}
